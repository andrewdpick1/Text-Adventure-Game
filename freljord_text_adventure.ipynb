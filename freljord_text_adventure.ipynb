import random
### Stats dictionary. each 'Stat' is a KEY (associated with a value)
player_stats = {
    'Wealth': 0,
    'Swordsmanship': 0,
    'Archery': 0,
    'Axe Mastery': 0,
    'Tactics': 0,
    'Hunting': 0,
    'Wildlife Taming': 0,
    'Survival': 0,
    'Persuasion': 0,
    'Intimidation': 0,
    'Stamina': 0,
    'Resolve': 0,
    'Explosives': 0,
    'Riding': 0 
}
def slightly_increase_stat(player_stats, stat_name, increase_amount=5):
    if stat_name in player_stats:
        player_stats[stat_name] += increase_amount
        print(f"\033[3m{stat_name} slightly increased\033[0m")
    else:
        print('Statistic not found in player_stats')
def increase_stat(player_stats, stat_name, increase_amount=10):
    if stat_name in player_stats:
        player_stats[stat_name] += increase_amount
        print(f"\033[3m{stat_name} increased\033[0m")

    else:
        print('Statistic not found in player_stats')
def greatly_increase_stat(player_stats, stat_name, increase_amount=15):
    if stat_name in player_stats:
        player_stats[stat_name] += increase_amount
        print(f"\033[3m{stat_name} greatly increased\033[0m")
    else:
        print('Statistic not found in player_stats')
relationship_stats = {
    'Ragnar': 0,
    
    'Ornn': 0,
    'Volibear': 0,
    'Anivia': 0
}
# to use these do:
# increase_relationship_stat(relationship_stats, 'Ragnar')
# decrease_relationship_stat(relationship_stats, 'Ragnar')
# print(f'Your relationship with Ragnar is at: {relationship_stats["Ragnar"]}')
def increase_relationship_stat(relationship_stats, person_name):
    if person_name in relationship_stats:
        relationship_stats[person_name]+=5
        print(f'\033[3mYour relationship with {person_name} has improved.\033[0m')
    else:
        print('That name is not in the relationship dictionary')
def decrease_relationship_stat(relationship_stats, person_name):
    if person_name in relationship_stats:
        relationship_stats[person_name] -= 5
        print(f'\033[3mYour relationship with {person_name} has worsened.\033[0m')
    else:
        print('That name is not in the relationship dictionary')  

# to use the functions do:              
# slightly_increase_stat(player_stats, 'Swordsmanship')
### initial player skill options function definitions... very much overcoded and inefficient. 
skill_choices = {
    0: '1. Making money as a businessman',
    1: '2. Thinking on my feet',
    2: '3. Hunting wildlife',
    3: '4. Taming wildlife',
    4: '5. Horseback and elnuk riding',
    5: '6. Surviving in the harsh wilderness',
    6: '7. Persuading people',
    7: '8. Intimidating people',
    8: '9. Doing hard work all day long',
    9: '10. Not giving up',
    10: '11. Blowing things up'
}
global skill1
global skill2
#here are the inefficient functions that set up the user's initial stats
def option1():
    while True:
            skill1 = input('>')
            if skill1 == '1':
                greatly_increase_stat(player_stats, 'Wealth')
                skill_choices.pop(0)
                print('\n'.join(skill_choices.values()))
                break
            elif skill1 == '2':
                greatly_increase_stat(player_stats, 'Tactics')
                skill_choices.pop(1)
                print('\n'.join(skill_choices.values()))
                break
            elif skill1 == '3':
                greatly_increase_stat(player_stats, 'Hunting')
                skill_choices.pop(2)
                print('\n'.join(skill_choices.values()))
                break
            elif skill1 == '4':
                greatly_increase_stat(player_stats, 'Wildlife Taming')
                skill_choices.pop(3)
                print('\n'.join(skill_choices.values()))
                break
            elif skill1 == '5':
                greatly_increase_stat(player_stats, 'Riding')
                skill_choices.pop(4)
                print('\n'.join(skill_choices.values()))                   
                break
            elif skill1 == '6':
                greatly_increase_stat(player_stats, 'Survival')
                skill_choices.pop(5)
                print('\n'.join(skill_choices.values()))
                break
            elif skill1 == '7':
                greatly_increase_stat(player_stats, 'Persuasion')
                skill_choices.pop(6)
                print('\n'.join(skill_choices.values()))
                break
            elif skill1 == '8':
                greatly_increase_stat(player_stats, 'Intimidation')
                skill_choices.pop(7)
                print('\n'.join(skill_choices.values()))
                break
            elif skill1 == '9':
                greatly_increase_stat(player_stats, 'Stamina')
                skill_choices.pop(8)
                print('\n'.join(skill_choices.values()))
                break
            elif skill1 == '10':
                greatly_increase_stat(player_stats, 'Resolve')
                skill_choices.pop(9)
                print('\n'.join(skill_choices.values()))
                break
            elif skill1 == '11':
                greatly_increase_stat(player_stats, 'Explosives')
                skill_choices.pop(10)
                print('\n'.join(skill_choices.values()))
                break
            else:
                print('Please enter a valid selection')
                continue
def option2(skill1):
    while True:
            skill2 = input('>')
            if skill2 == '1' and 0 in skill_choices:
                increase_stat(player_stats, 'Wealth')
                skill_choices.pop(0)
                print('\n'.join(skill_choices.values()))
                break
            elif skill2 == '2' and 1 in skill_choices:
                increase_stat(player_stats, 'Tactics')
                skill_choices.pop(1)
                print('\n'.join(skill_choices.values()))
                break
            elif skill2 == '3' and 2 in skill_choices:
                increase_stat(player_stats, 'Hunting')
                skill_choices.pop(2)
                print('\n'.join(skill_choices.values()))
                break
            elif skill2 == '4' and 3 in skill_choices:
                increase_stat(player_stats, 'Wildlife Taming')
                skill_choices.pop(3)
                print('\n'.join(skill_choices.values()))
                break
            elif skill2 == '5' and 4 in skill_choices:
                increase_stat(player_stats, 'Riding')
                skill_choices.pop(4)
                print('\n'.join(skill_choices.values()))                   
                break
            elif skill2 == '6' and 5 in skill_choices:
                increase_stat(player_stats, 'Survival')
                skill_choices.pop(5)
                print('\n'.join(skill_choices.values()))
                break
            elif skill2 == '7' and 6 in skill_choices:
                increase_stat(player_stats, 'Persuasion')
                skill_choices.pop(6)
                print('\n'.join(skill_choices.values()))
                break
            elif skill2 == '8' and 7 in skill_choices:
                increase_stat(player_stats, 'Intimidation')
                skill_choices.pop(7)
                print('\n'.join(skill_choices.values()))
                break
            elif skill2 == '9' and 8 in skill_choices:
                increase_stat(player_stats, 'Stamina')
                skill_choices.pop(8)
                print('\n'.join(skill_choices.values()))
                break
            elif skill2 == '10' and 9 in skill_choices:
                increase_stat(player_stats, 'Resolve')
                skill_choices.pop(9)
                print('\n'.join(skill_choices.values()))
                break
            elif skill2 == '11' and 10 in skill_choices:
                increase_stat(player_stats, 'Explosives')
                skill_choices.pop(10)
                print('\n'.join(skill_choices.values()))
                break
            else:
                print('Please enter a new selection')
                continue
def option3(skill1, skill2):
    while True:
            skill3 = input('>')
            if skill3 == '1' and 0 in skill_choices:
                slightly_increase_stat(player_stats, 'Wealth')
                break
            elif skill3 == '2' and 1 in skill_choices:
                slightly_increase_stat(player_stats, 'Tactics')
                break
            elif skill3 == '3' and 2 in skill_choices:
                slightly_increase_stat(player_stats, 'Hunting')
                break
            elif skill3 == '4' and 3 in skill_choices:
                slightly_increase_stat(player_stats, 'Wildlife Taming')
                break
            elif skill3 == '5' and 4 in skill_choices:
                slightly_increase_stat(player_stats, 'Riding')             
                break
            elif skill3 == '6' and 5 in skill_choices:
                slightly_increase_stat(player_stats, 'Survival')
                break
            elif skill3 == '7' and 6 in skill_choices:
                slightly_increase_stat(player_stats, 'Persuasion')
                break
            elif skill3 == '8' and 7 in skill_choices:
                slightly_increase_stat(player_stats, 'Intimidation')
                break
            elif skill3 == '9' and 8 in skill_choices:
                slightly_increase_stat(player_stats, 'Stamina')
                break
            elif skill3 == '10' and 9 in skill_choices:
                slightly_increase_stat(player_stats, 'Resolve')
                break
            elif skill3 == '11' and 10 in skill_choices:
                slightly_increase_stat(player_stats, 'Explosives')
                break
            else:
                print('Please enter a new selection')
                continue
###STORYLINE CODE
text = """
A cold breeze brushes against your skin, making the hairs stand on edge. Though the cold does not bother you in the
slightest. You look over your shoulder to see a burly man dressed in a fur coat that oddly cut off at the shoulders,
leaving his arms bare in the bitter cold. Apparently he's not the only one accustomed to the cold. After shutting the
door behind him and walking into to light, his scarred and muscular physique, and the battleaxe on his hip made it clear
that he was no ordinary man. His long golden hair fell behind his mountainous shoulders and his beard was as long as
any woman's head of hair. As the people in the bar notice his entrance, the commotion dies down as the patrons' eyes
are glued to the newcomer. The man, towering above everyone else, steadily walked towards you as, snow falling off his
boots with each step. The creaking of the floorboards stop when he reaches the bar where you stand. 
"""
print(text)
#this code gives the player a choice on what to say to the newcomer
text = """
As bartender and owner of the establishment, you feel obliged to address the oddly dressed man
Do you say -

1. "Welcome to Frostblade Inn! How can I help you today?"
2. "Where are your pants? And don't you think you should maybe put a coat?"
3. Stay silent and wait for him to speak his mind.
"""
print(text)
while True:
    dialogchoice1 = input(">")
    if(dialogchoice1 == "1" or dialogchoice1 == "1."): #could also do if dialogchoice1 in ["1", "1."]:
        print('''The man clears his throat before speaking and says "I am looking for information... Have you
seen an old traveling man who never stops talking? He carries a walking stick."
              ''')
        break
    elif(dialogchoice1 == "2" or dialogchoice1 == "2."): #could also do if dialogchoice1 in ["2", "2."]:
        print('''The man slams his fist on the bar table and says, "Did I ask your opinion on what I wear? Now,
have you seen an old traveling man, who never stops talking? He carries a walking stick."
              ''')
        break
    elif(dialogchoice1 == "3" or dialogchoice1 == "3."):
        print('''"Thank you for the warm welcome." The man says with a straight face. "Now, have you seen
an old traveling man, who never stops talking? He carries a walking stick."
              ''')
        break
    else:
        print("Please enter choice 1, 2, or 3.")
        
print('''Thinking back on the previous days' guests, you recall a man who fit that description to a tee. In fact, the 
man was somewhat of a regular, coming in every month or so. Folks around here call him Babbling Bjerg and enjoy 
playing a little game with the stories he tells. The game is called 'Exaggeration or Fabrication' where they vote if
Bjerg's story is completely made up, or blown way out of proportion. You'd be lying if you said that you hadn't joined
in once or twice to give your two cents. But the man in front of you isn't likely to know any of that.
       
1. Tell the truth. "Yes, he was here just a day or two ago. He goes by Bjerg. Why do you ask?
2. Nothing is free around here. Especially not information. "Depends... how important is that information to ya?"
3. Bjerg's whereabouts is none of his business. Even if his stories are mostly false. "Even if I knew, why would I
tell ya?"''')
while True:
    dc = input(">")
    if dc in ['1', "1."]:
        print('''The man's lips curled into a smile, probably not expecting information to come out so easily. "That's 
great to hear! I am an old acquantaince with Bjerg, and there is some troubling news he might know about. Do you know
where he was off to and what he was talking about?" You rummage through your mind trying to recall
what Bjerg was going on about this time around. "Hmmm... I think I remember him saying something about the watchers being
released and ending the world or the rather. Rubbish as usual. Everyone knows the watchers are a myth. Anyways, he said
he'd be going South to warn the Avarosans or something like that." At mention of the watchers the man froze. Coming back
to reality, his brow tightened and a frown formed on his face. "If that's really what Bjerg said, that is troubling news."
With your curiosity piqued, you ask, "What is troubling about it? Surely Bjerg was just making his story up?" He shakes
his head side to side, "I don't think so. I've heard similar reports from others. I need to investigate this myself. Now 
that you think about it, other people have been whispering about these rumors too.''')
        break
    if dc in ['2', '2.']:
        print('''The man stares directly into your eyes, unquivering. After what seems like an eternity, he relents and
begrudgingly slides two silver coins across the tables. You smile and put the coins in your pocket. "Well, the old man is              
somewhat of a regular around here. He was here a few days ago rambling on like he always does. What do you want to know
about him?" A relieved look flashes across the man's face upon hearing this news before returning to his stoic features.
"I want to know where he was off to and what he was talking about here." You rummage through your mind trying to recall
what Bjerg was going on about this time around. "Hmmm... I think I remember him saying something about the watchers and
how they're gonna get released and wreak havoc or something like that. Rubbish as usual. Everyone knows the watchers are
a myth. Anyways, he said he'd be going South to warn the Avarosans or something like that." At mention of the watchers the
man froze. Coming back to reality, his brow tightened and a frown formed on his face. "If that's really what Bjerg said, 
that is troubling news." With your curiosity piqued, you ask, "What is troubling about it? Surely Bjerg was just making 
his story up?" He shakes his head side to side, "I don't think so. I've heard similar reports from others. I need to 
investigate this myself. Now that you think about it, other people have been whispering about these rumors too.''')
        slightly_increase_stat(player_stats, 'Wealth')
        break
    if dc in ['3', '3.']:
        print('''He lowers his voice into a fierce whisper, "You'd tell me because if you don't, I'll force the information out of ya."
Looking at the man tapping his axe handle from across the bartop, you instantly regret your choice of words. "Alright, 
alright I'll tell ya." His lips curl into a smile as you start explaining, I think I remember him saying something about
the watchers being released and ending the world or the rather. Rubbish as usual. Everyone knows the watchers are a myth.
Anyways, he said he'd be going South to warn the Avarosans or something like that." At mention of the watchers the man froze.
Coming back to reality, his brow tightened and a frown formed on his face. "If that's really what Bjerg said, that is troubling
news." With your curiosity piqued, you ask, "What is troubling about it? Surely Bjerg was just making his story up?" He 
shakes his head side to side, "I don't think so. I've heard similar reports from others. I need to investigate this myself.
This piqued your interest. Now that you think about it, other people have been whispering about these rumors too.''')
        break
    else:
        print("Please enter choice 1, 2, or 3.")
print('''1. "What have you heard about these Watchers? Surely they wouldn't be be in Freljord of all places, right?"
2. "Psh... I've been hearing rumors about the Watchers for as long as I've been at this inn. Yet I haven't seen or heard a 
hint of real hard evidence. What makes you think they're true?
3. Cut to the chase. "You know, there's something about this whole watcher business that's got me curious. I've spent enough nights
in this inn listening to stories. Why not be a part of one for once? I think I have a valuable skillset that you'd find mighty valuable." 
      ''')
#olaf could have seen the watchers open their eyes himself. he comes from the frostguard and lissandra is trying to keep them secret. 
while True:
    dc = input('>')
    if dc in ['1', '1.']:
        print('''I have heard from a firsthand account that the Watchers are in fact real. Not only are they real, but the seal keepin'
'em in check is weakening. They're itchin' to break out of their cage. Only reason you haven't heard too much about 'em is because
that's how Lissandra wants it. She wants the people to believe it's just a silly rumor to hide it for some reason... that's why I am
looking for Bjerg, he might know more about the Watchers and what we can do about 'em. Curious, you ask, "Wait, you said you talked to
someone who saw them?" The man sullenly replies, "Indeed, I did. Sigvar was his name. I didn't get much out him. I think what he saw did
somethin' do him. He didn't seem... right." Shuddering, you decide right then and there that this man might need some help with this. 
Shuddering, you realize this predicament is more significant than anything you've encountered in your lifetime. Helping this man may be
crucial in facing a threat of unparalleled magnitude. "You know, there's something about this whole watcher business that's got me curious.
I've spent enough nights in this inn listening to stories. Why not be a part of one for once? I think I have a valuable skillset that 
you'd find mighty valuable."''' )
        break
    elif dc in ['2', '2.']:
        print('''Oh but I wouldn't be so sure about that. I tell you, I have heard from a firsthand account that the Watchers are in fact real.
It's not just a rumor; the seal keepin' 'em in check is weakening. They're itchin' to break out of their cage. Only reason you haven't
heard too much about 'em is because that's how Lissandra wants it. She wants the people to believe it's just a silly rumor to 
hide it for some reason... that's why I am looking for Bjerg, he might know more about the Watchers and what we can do about 'em.
Curious, you ask, "Wait, you said you talked to someone who saw them?" The man sullenly replies, "Indeed, I did. Sigvar was his name.
I didn't get much out him. I think what he saw did somethin' do him. He didn't seem... right. Shuddering, you realize this predicament is more
significant than anything you've encountered in your lifetime. Helping this man may be crucial in facing a threat of unparalleled magnitude.
"You know, there's something about this whole watcher business that's got me curious. I've spent enough nights in this inn listening to stories.
Why not be a part of one for once? I think I have a valuable skillset that you'd find mighty valuable." 
''')
        break
    elif dc in ['3', '3.']:
        break
    else:
        print('Please enter a valid option')
        

print('''
The man's stern expression softened into a faint smile. "Oh yeah? What business does a bar tender have going on an expedition?
You gonna fight with made-up stories? Throw tankards of ale at the enemy until they surrender?"  He laughs heartily, his eyes
narrowing in a playful yet challenging manner. You don't laugh. Your mind drifts back to the past, memories of war, bloodshed,
and loss. You left that life behind you, seeking a quieter life, a break from the ceaseless fighting. But now as this stranger
speaks of troubles that may shake the very foundations of the Freljord, a spark of your past courage reignites. A part of you
longs yet to make an impact on the Freljord, the icy region you have called home since birth. "I wouldn't be so quick to assume.
I've got history with the Winter's Claw; served under Sejuani herself. Fought in battles that could freeze a man's heart."
"Hmpf. I guess there's more to you than meets the eye. What's your weapon of choice then?" He replies with an inquisitive look
on his face. "Well, let me go grab it for you." You walk from behind the bar and open the door to your room. In the corner of
the room, you dust off a chest and unlatch its clasp before opening the creaky container. Inside you see...
''')
#weapon choices
print('''1. a radiant blade, its ethereal form radiating an icy glow that dances in hues of turquoise blue as if capturing the
essence of frozen starlight. The meticulously crafted steel cross guard encases two mesmerizing gems of pure blue true ice, 
their crystalline symmetry a testament to the harmonious fusion of magic and craftsmanship. The sword of true ice emanates an 
otherworldly chill, a weapon of both elegance and power: Glacial Hailblade.
2. a crystalline bow with limbs that shimmer with an icy brilliance, refracting the ambient light into a cascade of frozen hues.
The bowstring, woven from the sinew of frostguard thralls, hums with an ethereal resonance. The grip, carved with ancient 
Freljordian patterns, channels the very essence of winter with each arrow loosed. A true ice weapon of both elegance and power:
Winter's Wrath.
3. a one-sided battle-axe hewn from the heart of an enchanted glacier. Its razor-sharp edge glows with an icy luminescence, 
leaving a frosty residue in its wake. The haft, etched with ancient Freljordian symbols, resonates with the raw power of winter.
Carved with intricate Freljordian patterns, the Glacial Frostrend channels the very spirit of winter with each resolute swing. 
The axe's single, razor-sharp edge of true ice evokes both finesse and strength, making it a symbol of frigid might and refined
brutality. A weapon of both elegance and power: Frostfury.''')
#weapon choices
while True:
    weapon = input(">")
    if weapon in ['1.', '1']:
        print('''You grab Glacial Hailblade and toss it around in your hand. It is as light as a feather but its strength is not to
be underestimated. You feel powerful, as you once did long ago.''')
        greatly_increase_stat(player_stats, 'Swordsmanship')
        weapon = 'sword'
        weapon_name = 'Glacial Hailblade'
        break

    if weapon in ['2', '2.']:
        print('You throw Winter\'s Wrath over your shoulder alongside its quiver of arrows. You feel powerful, as you once did long ago.')
        greatly_increase_stat(player_stats, 'Archery')
        slightly_increase_stat(player_stats, 'Hunting')
        weapon = 'bow'
        weapon_name = 'Winter\'s Wrath'
        break

    if weapon in ['3.', '3']:
        print('You heft Frostfury, from its resting place, tossing it in your hand. It resonates with power.')
        greatly_increase_stat(player_stats, 'Axe Mastery')
        slightly_increase_stat(player_stats, 'Intimidation')
        weapon = 'axe'
        weapon_name = 'Frostfury'
        break

    else:
        print('Please select 1, 2, or 3.')

print('''With your chosen weapon in hand, you rejoin the man at the bar. His eyes fixate on your weapon of choice, and meet your eyes with
a nod of approval. "A fine weapon. Made of true ice nonetheless! Those aren't given to just anyone." Looking you up and down, he asks, "So,
you're clearly skilled in fighting, but what else are you good at?"

1. Making money as a businessman
2. Thinking on my feet
3. Hunting wildlife
4. Taming wildlife
5. Horseback and elnuk riding
6. Surviving in the harsh wilderness
7. Persuading people
8. Intimidating people
9. Doing hard work all day long
10. Not giving up
11. Blowing things up
''')
#player chooses 4 with the first choice greatly increasing that skill then the next 2 increasing that skill and the last one slightly 
#increasing that skill
#loop that pops a given choice after it's been selected by the player. 
counter = 0
for _ in range(4):
    counter += 1
    if counter == 1:
        skill1= ''
        option1()
    if counter in [2, 3]:
        option2(skill1)
    if counter in [4]:
        skill2 = ''
        option3(skill1, skill2)


print('''
"Hmpf. I guess there's more to you than meets the eye. So what's your name?"
      ''')
player_name = input('>')
print(f'''"Alright {player_name}. My name is Ragnar Frostfury. Pack your things, we leave at first light." With that, he turns
around and strides to the door. The wind outside continues to howl as he exits, the sound lingering before the door shuts.''')
print('''
\033[3mThe next day.\033[0m''')
print('''
As the door closes behind you, you find Ragnar waiting outside. The frosty air bites at your skin as you join him on the snowy path.
The wind howls, carrying whispers of the impending journey. The journey South won't be easy, but at least the sun is shining and
your spirits are up. The vast expanse of the Freljord lies before you, and the crunch of snow beneath your feet marks the beginning
of a perilous and influential journey. Ragnar glances back at you. "We'll need more supplies if we're to make it through the wilderness. 
There's a small outpost not far from here. If we make haste we can resupply there by day's end."

The journey to the outpost is filled with moments of quiet reflection and shared stories. Ragnar, it turns out, has a wealth of experiences
from battles fought in the far reaches of the Freljord. As you listen to his tales, you gain a deeper understanding of the land's unforgiving 
realities and the resilience required to survive. In return, you share stories from your past in the Winter's Claw. Serving under the harsh 
leadership of Sejuani took a toll on you. The relentless campaigns, the biting winds of the Freljord, and the constant struggle for dominance
left scars, both physical and emotional. You speak of the camaraderie forged in the crucible of conflict and the icy landscapes that tested
your mettle. ''')
slightly_increase_stat(player_stats, 'Survival')
increase_relationship_stat(relationship_stats, 'Ragnar')
### make this option player-choice based in the future
print(f'''
Along the way, you spot a snow hare off in the distance. Wanting to test your hunting skills, you draw {weapon_name} and make your intent 
known to Ragnar. Weapon in hand, you sneak forward, approaching the unsuspecting hare. As you get closer, you crouch down, trying to conceal
yourself in the snowy terrain. The hare, unaware of your presence, continues nibbling on small plants poking through the snow.''')
if weapon == 'sword' and player_stats['Hunting'] >= 5:
    print('''
Although unconventional, you have practiced sword throwing many times. Once within ten strides, you out-stretch your off-hand, pointing it at
the hare. After a deep breath, you hurl the sword at the unsuspecting animal. The blade flies through the air rotating around its central axis
like a spear before burying itself right through the body of the hare. A nearly instantaneous death. You retrieve your kill, a small but
satisfying success in the vast wilderness of Freljord. Ragnar, with a look of surprise on his face, exclaims, "Wow, I can't say I've ever seen
someone hunt with a sword! You really are skilled with that thing." With that, the two of you continue on your way.''')
    increase_stat(player_stats, 'Hunting')
    slightly_increase_stat(player_stats, 'Swordsmanship')
elif weapon == 'axe' and player_stats['Hunting'] >= 3:
    print('''
Although somehwat unconventional of a hunting weapon, your axe was made for throwing. Once within ten strides, you out-stretch your off-hand,
pointing it at the hare. After a deep breath, you hurl Frostfury at the unsuspecting animal. The blade flies through the air end over end around
before burying itself into the body of the hare. A nearly instantaneous death. You retrieve your kill, a small but satisfying success in the vast
wilderness of Freljord. Ragnar, with a look of approval on his face, smirks and says,
"Nice throw, give it enough time and maybe, just maybe, you'll be skilled as me one day!" With that, the two of you continue on your way.''')
    increase_stat(player_stats, 'Hunting')
    slightly_increase_stat(player_stats, 'Axe Mastery')
elif weapon == 'bow':
    print('''
20 paces from the hare, you draw an arrow from the quiver on your back and knock it into the bowstring. With a deep breath, draw the arrow back,
aiming slightly below the hare, knowing that you are close enough for the arrow's trajectory to rise before falling. You release the arrow, and
it flies true, hitting the snow hare with precision. The hare gives a brief struggle before succumbing to the well-aimed shot. You retrieve your
kill, a small but satisfying success in the vast wilderness of Freljord. Ragnar nods his head with approval and the two of you continue on your way.''')
    increase_stat(player_stats, 'Hunting')
    slightly_increase_stat(player_stats, 'Archery')
elif weapon == 'sword':
    print('''
Unsure of the best approach, you decide to take a daring chance and try hunting with your sword. Approaching the snow hare cautiously, you position
your off hand towards the creature, drawing back your arm. Summoning all your strength, you propel the sword forward, sending it hurtling through the
air like a spear. Mid-flight, the blade rotates to its side before landing just shy of the hare. The resounding thud of the sword meeting the snow
startles the hare, prompting it to dart away to safety. You stand there, contemplating the failed attempt, and shrug. Ragnar, amused by the unexpected
spectacle, bursts into laughter. "Well, that's a new one! Hunting with a sword! I'll give you points for creativity," he chuckles. With that, the two
of you continue on your way. ''')
    slightly_increase_stat(player_stats, 'Hunting')
    slightly_increase_stat(player_stats, 'Swordsmanship')
elif weapon == 'axe':
    print('''
Without a clear plan in mind, you decide to test your hunting skills with the axe in hand. Closing in on the snow hare, you position your off hand
towards the target and prepare for the throw. With a determined effort, you hurl the axe forward, sending it spinning through the cold air. The axe 
proceeds to land with a thud a few paces away from the hare. Startled the hare promptly scurries away. Reflecting on the unconventional attempt,
you can't help but shrug. Ragnar, witnessing the spectacle, bursts into laughter, "Looks like you've still got some training to do with that axe 
of yours. I could give you some pointers for the next time." With a short lesson in axe-throwing complete, the two of you continue on your way. ''')
    slightly_increase_stat(player_stats, 'Hunting')
    slightly_increase_stat(player_stats, 'Axe Mastery')
else:
    print('something went wrong')

print('''
As the sun begins to creep under the horizon, your feet begin to feel their tire.  In the distance, a chimney emits smoke, urging you onward towards
an inn. Soon, a sizable wooden building emerges, its roof blanketed in snow and drifts climbing one side. A sign above the double-doors reads 
"Frozen Tides Inn and Casino." Stepping inside transports you to a different world—a smoky atmosphere with a mix of people and creatures engrossed in
poker, blackjack, and other games. Dim lighting and the hum of chatter create an immersive experience.
"I wouldn't be surprised to find Bjerg in this mess. Keep an eye out for him; I'll talk to the bartender," your companion says. You nod and weave 
through the crowd, discovering a surprisingly spacious room. In a back corner, an empty bar awaits, while a blackjack table nearby has a few open spots.

1. Maybe the bartender over there has information the one talking to Ragnar doesn't. Go sit down and order a drink.
2. The people at the blackjack table might know about Bjerg's whereabouts. Plus, it doesn't hurt to have a little fun after a long day.
      ''')
while True:
    dc = input('>')
    if dc in ['1', '1.']:
        print('''
You stride over to the back corner of the room, where an empty bar awaits. Behind the worn wooden counter stands a middle-aged man with an appearance
that seems oddly out of place in the icy confines of Freljord. His attire, a mishmash of sea-worn leathers and fur-lined fabrics, looks to stand as a
testament to a life anchored in a distant, warmer world.

The bartender's sharp eyes flick up from the wine glass he's diligently polishing with a clean towel. His gaze, weathered but oddly vibrant, meets 
yours with a nod of acknowledgment. "How can I help you, sir?" As he speaks he continues to spin the glass in his hands.
              
1. _____
2.
''')
        dc1 = input('>')
        if dc1 in [1, 1.]:
            print()
        if dc1 in [2, 2.]:
            print()
    if dc in ['2', '2.']:
        print('''
''')

